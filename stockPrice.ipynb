{
  "cells": [
    {
      "cell_type": "markdown",
      "metadata": {
        "id": "lC1SrAnrj2oa"
      },
      "source": [
        "# Data collection from quantrocket"
      ]
    },
    {
      "cell_type": "code",
      "execution_count": null,
      "metadata": {
        "id": "QWpt7rYvj8xn"
      },
      "outputs": [],
      "source": [
        "# first create an empty database\n",
        "from quantrocket.history import create_usstock_db\n",
        "create_usstock_db(\"usstock-free-1d\", bar_size=\"1 day\", free=True)"
      ]
    },
    {
      "cell_type": "code",
      "execution_count": null,
      "metadata": {
        "id": "6WgsYy4XkAuI"
      },
      "outputs": [],
      "source": [
        "# from the collect_histroy library, fill the database with values\n",
        "from quantrocket.history import collect_history\n",
        "collect_history(\"usstock-free-1d\")"
      ]
    },
    {
      "cell_type": "code",
      "execution_count": null,
      "metadata": {
        "id": "vcQeEwqokDLl"
      },
      "outputs": [],
      "source": [
        "#get the securities\n",
        "from quantrocket.master import get_securities\n",
        "securities = get_securities(vendors=\"usstock\", sec_types=\"STK\")\n",
        "securities.head()"
      ]
    },
    {
      "cell_type": "code",
      "execution_count": null,
      "metadata": {
        "id": "0TxDgekpkEpV"
      },
      "outputs": [],
      "source": [
        "# create a universe for securities\n",
        "from quantrocket.master import create_universe\n",
        "create_universe(\"usstock-free\", sids=securities.index.tolist())"
      ]
    },
    {
      "cell_type": "code",
      "execution_count": null,
      "metadata": {
        "id": "ADODJc-xkGAA"
      },
      "outputs": [],
      "source": [
        "# create a security called filtered_securities which is a subset of securities\n",
        "filtered_securities = securities[securities.Delisted==False]\n",
        "filtered_securities = filtered_securities[[\"Symbol\", \"Exchange\", \"Name\", \"Delisted\"]]\n",
        "filtered_securities.head()"
      ]
    },
    {
      "cell_type": "code",
      "execution_count": null,
      "metadata": {
        "id": "781RJJQwkHaD"
      },
      "outputs": [],
      "source": [
        "#create universe for filtered securities\n",
        "create_universe(\"usstock-free-active\", sids=filtered_securities.index.tolist())\n"
      ]
    },
    {
      "cell_type": "code",
      "execution_count": null,
      "metadata": {
        "id": "Hekg7O0CkJ8G"
      },
      "outputs": [],
      "source": [
        "#retrieve sid for AAPL and download the data as a CSV file from start to end date with only close stock prices\n",
        "from quantrocket.history import download_history_file\n",
        "sid_aapl = \"FIBBG000B9XRY4\"\n",
        "download_history_file(\"usstock-free-1d\",start_date=\"2023-01-01\",end_date=\"2023-12-31\",sids=sid_aapl,fields=[\"Close\"],filepath_or_buffer=\"stockPrices.csv\")"
      ]
    },
    {
      "cell_type": "markdown",
      "metadata": {
        "id": "BsjRt8h0jDbX"
      },
      "source": [
        "# Portfolio calculation - pre specified logic\n",
        "\n",
        "\n",
        "\n"
      ]
    },
    {
      "cell_type": "markdown",
      "metadata": {
        "id": "lFHVpxSnjVBW"
      },
      "source": [
        "## Install necessary libraries"
      ]
    },
    {
      "cell_type": "code",
      "execution_count": 26,
      "metadata": {
        "id": "tjb0DbNC2uDW"
      },
      "outputs": [],
      "source": [
        "import pandas as pd\n",
        "import numpy as np\n",
        "import matplotlib.pyplot as plt\n",
        "import seaborn as sns\n",
        "import datetime"
      ]
    },
    {
      "cell_type": "markdown",
      "source": [
        "## Pre-processing"
      ],
      "metadata": {
        "id": "tObd0WPVUt0S"
      }
    },
    {
      "cell_type": "code",
      "execution_count": 27,
      "metadata": {
        "colab": {
          "base_uri": "https://localhost:8080/"
        },
        "id": "jG6ho8Kn3Bhr",
        "outputId": "36bc078d-3747-4525-ee5c-0d786d4ebdbb"
      },
      "outputs": [
        {
          "output_type": "stream",
          "name": "stdout",
          "text": [
            "                Sid        Date     Close\n",
            "0    FIBBG000B9XRY4  03-01-2023  124.2163\n",
            "1    FIBBG000B9XRY4  04-01-2023  125.4975\n",
            "2    FIBBG000B9XRY4  05-01-2023  124.1666\n",
            "3    FIBBG000B9XRY4  06-01-2023  128.7352\n",
            "4    FIBBG000B9XRY4  09-01-2023  129.2616\n",
            "..              ...         ...       ...\n",
            "245  FIBBG000B9XRY4  22-12-2023  193.3533\n",
            "246  FIBBG000B9XRY4  26-12-2023  192.8040\n",
            "247  FIBBG000B9XRY4  27-12-2023  192.9038\n",
            "248  FIBBG000B9XRY4  28-12-2023  193.3333\n",
            "249  FIBBG000B9XRY4  29-12-2023  192.2846\n",
            "\n",
            "[250 rows x 3 columns]\n"
          ]
        }
      ],
      "source": [
        "df = pd.read_csv('/content/stockPrices.csv')\n",
        "print(df)"
      ]
    },
    {
      "cell_type": "code",
      "execution_count": 28,
      "metadata": {
        "id": "Vbvj7xcbFDrN"
      },
      "outputs": [],
      "source": [
        "df = df.drop(['Sid'],axis=1)"
      ]
    },
    {
      "cell_type": "code",
      "source": [
        "df.shape"
      ],
      "metadata": {
        "colab": {
          "base_uri": "https://localhost:8080/"
        },
        "id": "3Bmow__SVSAi",
        "outputId": "1a2203fe-c8a0-4fef-daa3-03aa1582c0e3"
      },
      "execution_count": 29,
      "outputs": [
        {
          "output_type": "execute_result",
          "data": {
            "text/plain": [
              "(250, 2)"
            ]
          },
          "metadata": {},
          "execution_count": 29
        }
      ]
    },
    {
      "cell_type": "markdown",
      "source": [
        "The dataset contains 2 columns (Dates and stock prices) and 250 rows in total"
      ],
      "metadata": {
        "id": "CD2m-vN5VmDa"
      }
    },
    {
      "cell_type": "code",
      "source": [
        "df.info()"
      ],
      "metadata": {
        "colab": {
          "base_uri": "https://localhost:8080/"
        },
        "id": "s1n-gYzJUx5B",
        "outputId": "2d5d37d1-331e-42fc-dd04-6169cf5c65c2"
      },
      "execution_count": 30,
      "outputs": [
        {
          "output_type": "stream",
          "name": "stdout",
          "text": [
            "<class 'pandas.core.frame.DataFrame'>\n",
            "RangeIndex: 250 entries, 0 to 249\n",
            "Data columns (total 2 columns):\n",
            " #   Column  Non-Null Count  Dtype  \n",
            "---  ------  --------------  -----  \n",
            " 0   Date    250 non-null    object \n",
            " 1   Close   250 non-null    float64\n",
            "dtypes: float64(1), object(1)\n",
            "memory usage: 4.0+ KB\n"
          ]
        }
      ]
    },
    {
      "cell_type": "markdown",
      "source": [
        "As we can see there are no null values"
      ],
      "metadata": {
        "id": "rNH4bxECVaRp"
      }
    },
    {
      "cell_type": "markdown",
      "source": [
        "### Checking for outliers - inter quartile range"
      ],
      "metadata": {
        "id": "sFlKP_hVVwYO"
      }
    },
    {
      "cell_type": "code",
      "source": [
        "# Check for outliers using IQR\n",
        "Q1 = df['Close'].quantile(0.25)\n",
        "Q3 = df['Close'].quantile(0.75)\n",
        "IQR = Q3 - Q1\n",
        "lower_limit = Q1 - (1.5 * IQR)\n",
        "upper_limit = Q3 + (1.5 * IQR)\n",
        "outliers = df[(df['Close'] < lower_limit) | (df['Close'] > upper_limit)]\n",
        "print('Number of outliers using IQR (Inter-quartile range):', len(outliers))"
      ],
      "metadata": {
        "colab": {
          "base_uri": "https://localhost:8080/"
        },
        "id": "rY3mFbw6Uza2",
        "outputId": "309fba85-ddca-4681-d761-78972a5abe32"
      },
      "execution_count": 31,
      "outputs": [
        {
          "output_type": "stream",
          "name": "stdout",
          "text": [
            "Number of outliers using IQR (Inter-quartile range): 0\n"
          ]
        }
      ]
    },
    {
      "cell_type": "markdown",
      "metadata": {
        "id": "PKjZEI5sjkLr"
      },
      "source": [
        "## Defining the states and finding maximum portfolio value"
      ]
    },
    {
      "cell_type": "code",
      "source": [
        "import numpy as np\n",
        "\n",
        "def state_classification(returns):\n",
        "    if returns >= 0.01:\n",
        "        return 1  # Bull state\n",
        "    elif returns > -0.01:\n",
        "        return 0  # Flat state\n",
        "    else:\n",
        "        return -1  # Bear state\n",
        "\n",
        "def calculate_transition_distribution(states):\n",
        "    transition_counts = np.zeros((3, 3))  # 3 states: Bull, Flat, Bear\n",
        "    for i in range(1, len(states)):\n",
        "        prev_state = states[i - 1]\n",
        "        current_state = states[i]\n",
        "        transition_counts[prev_state + 1, current_state + 1] += 1\n",
        "\n",
        "    transition_probs = transition_counts / np.sum(transition_counts, axis=1, keepdims=True)\n",
        "    return transition_probs\n",
        "\n",
        "def calculate_portfolio_value(states, prices):\n",
        "    V = [0]  # initial Portfolio value\n",
        "    buy_indices = []  # Indices where buy order is placed\n",
        "\n",
        "    for i in range(1, len(states)):\n",
        "        prev_state = states[i - 1]\n",
        "        current_state = states[i]\n",
        "\n",
        "        # Calculate transition probabilities and make decision\n",
        "        transition_probs = calculate_transition_distribution(states[:i])\n",
        "        value_additive_prob = transition_probs[1, 2]  # Transition to Bull state\n",
        "        value_reductive_prob = transition_probs[1, 0]  # Transition to Bear state\n",
        "\n",
        "        if value_additive_prob > value_reductive_prob:\n",
        "            V.append(V[-1] + 1)  # Place buy order\n",
        "            buy_indices.append(i)\n",
        "        elif value_reductive_prob > value_additive_prob:\n",
        "            V.append(V[-1] - 1)  # Do not place buy order\n",
        "        else:\n",
        "            V.append(V[-1])  # No change in portfolio value\n",
        "\n",
        "    return V, buy_indices"
      ],
      "metadata": {
        "id": "TN3LqEr27dhD"
      },
      "execution_count": 34,
      "outputs": []
    },
    {
      "cell_type": "code",
      "source": [
        "prices = df['Close'].to_list()\n",
        "returns = [(prices[i] - prices[i - 1]) / prices[i - 1] for i in range(1, len(prices))]\n",
        "states = [state_classification(r) for r in returns]\n",
        "\n",
        "# Calculate portfolio value and buy indices\n",
        "portfolio_values, buy_indices = calculate_portfolio_value(states, prices)\n",
        "final_portfolio_value = portfolio_values[-1]\n",
        "\n",
        "print(\"Portfolio Value:\", final_portfolio_value)\n",
        "print(\"Buy Indices:\", buy_indices)"
      ],
      "metadata": {
        "colab": {
          "base_uri": "https://localhost:8080/"
        },
        "id": "lVi58KPT8Lca",
        "outputId": "67ed2c26-97b5-4210-e5d8-1e24df2cb8d2"
      },
      "execution_count": 36,
      "outputs": [
        {
          "output_type": "stream",
          "name": "stdout",
          "text": [
            "Portfolio Value: 243\n",
            "Buy Indices: [6, 7, 8, 9, 10, 11, 12, 13, 14, 15, 16, 17, 18, 19, 20, 21, 22, 23, 24, 25, 26, 27, 28, 29, 30, 31, 32, 33, 34, 35, 36, 37, 38, 39, 40, 41, 42, 43, 44, 45, 46, 47, 48, 49, 50, 51, 52, 53, 54, 55, 56, 57, 58, 59, 60, 61, 62, 63, 64, 65, 66, 67, 68, 69, 70, 71, 72, 73, 74, 75, 76, 77, 78, 79, 80, 81, 82, 83, 84, 85, 86, 87, 88, 89, 90, 91, 92, 93, 94, 95, 96, 97, 98, 99, 100, 101, 102, 103, 104, 105, 106, 107, 108, 109, 110, 111, 112, 113, 114, 115, 116, 117, 118, 119, 120, 121, 122, 123, 124, 125, 126, 127, 128, 129, 130, 131, 132, 133, 134, 135, 136, 137, 138, 139, 140, 141, 142, 143, 144, 145, 146, 147, 148, 149, 150, 151, 152, 153, 154, 155, 156, 157, 158, 159, 160, 161, 162, 163, 164, 165, 166, 167, 168, 169, 170, 171, 172, 173, 174, 175, 176, 177, 178, 179, 180, 181, 182, 183, 184, 185, 186, 187, 188, 189, 190, 191, 192, 193, 194, 195, 196, 197, 198, 199, 200, 201, 202, 203, 204, 205, 206, 207, 208, 209, 210, 211, 212, 213, 214, 215, 216, 217, 218, 219, 220, 221, 222, 223, 224, 225, 226, 227, 228, 229, 230, 231, 232, 233, 234, 235, 236, 237, 238, 239, 240, 241, 242, 243, 244, 245, 246, 247, 248]\n"
          ]
        },
        {
          "output_type": "stream",
          "name": "stderr",
          "text": [
            "<ipython-input-34-096099bad0c6>:18: RuntimeWarning: invalid value encountered in divide\n",
            "  transition_probs = transition_counts / np.sum(transition_counts, axis=1, keepdims=True)\n"
          ]
        }
      ]
    }
  ],
  "metadata": {
    "colab": {
      "provenance": []
    },
    "kernelspec": {
      "display_name": "Python 3",
      "name": "python3"
    },
    "language_info": {
      "name": "python"
    }
  },
  "nbformat": 4,
  "nbformat_minor": 0
}